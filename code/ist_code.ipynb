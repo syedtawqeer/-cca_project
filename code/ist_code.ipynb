{
 "cells": [
  {
   "cell_type": "code",
   "execution_count": 1,
   "metadata": {},
   "outputs": [],
   "source": [
    "import os\n",
    "import numpy as np\n",
    "import imgaug.augmenters as iaa\n",
    "from PIL import Image"
   ]
  },
  {
   "cell_type": "code",
   "execution_count": 4,
   "metadata": {},
   "outputs": [],
   "source": [
    "# Define augmentation pipeline\n",
    "seq = iaa.Sequential([\n",
    "    iaa.Fliplr(0.5),   # horizontally flip 50% of the images\n",
    "    iaa.Flipud(0.5),   # vertically flip 50% of the images\n",
    "    iaa.Affine(rotate=(-10, 10)),  # rotate by -10 to +10 degrees\n",
    "    iaa.AdditiveGaussianNoise(scale=(0, 0.05*255)),  # add gaussian noise\n",
    "    iaa.GaussianBlur(sigma=(0, 3.0)),  # blur images with a sigma of 0 to 3.0\n",
    "    iaa.Grayscale(alpha=(0.0, 1.0)),  # convert images to grayscale\n",
    "    iaa.Sometimes(0.5, iaa.ChannelShuffle(1.0)),  # shuffle channels\n",
    "    iaa.Sometimes(0.5, iaa.Invert(1.0)),  # invert pixel values\n",
    "    iaa.Sometimes(0.5, iaa.ContrastNormalization((0.5, 2.0))),  # contrast normalization\n",
    "    iaa.Sometimes(0.5, iaa.Multiply((0.5, 1.5), per_channel=0.5)),  # multiply pixel values\n",
    "    iaa.Sometimes(0.5, iaa.LinearContrast((0.5, 2.0))),  # linear contrast adjustment\n",
    "    iaa.Sometimes(0.5, iaa.HistogramEqualization()),  # histogram equalization\n",
    "    iaa.Sometimes(0.5, iaa.GammaContrast((0.5, 2.0))),  # gamma contrast adjustment\n",
    "    iaa.Sometimes(0.5, iaa.CLAHE()),  # contrast limited adaptive histogram equalization\n",
    "    iaa.Sometimes(0.5, iaa.ChangeColorspace(from_colorspace=\"RGB\", to_colorspace=\"HSV\")),  # RGB to HSV\n",
    "  #  iaa.Sometimes(0.5, iaa.ChangeColorspace(from_colorspace=\"RGB\", to_colorspace=\"LAB\")),  # RGB to LAB\n",
    "     iaa.Sometimes(0.5, iaa.ChangeColorspace(from_colorspace=\"RGB\", to_colorspace=\"Lab\")), # RGB to LAB\n",
    "    iaa.Sometimes(0.5, iaa.Grayscale(alpha=(0.0, 1.0))),  # convert images to grayscale\n",
    "    iaa.Sometimes(0.5, iaa.GaussianBlur(sigma=(0, 1.0))),  # gaussian blur\n",
    "    iaa.Sometimes(0.5, iaa.MotionBlur(k=15, angle=[-45, 45])),  # motion blur\n",
    "    iaa.Sometimes(0.5, iaa.Sharpen(alpha=(0, 1.0), lightness=(0.75, 2.0))),  # sharpen images\n",
    "    iaa.Sometimes(0.5, iaa.AddToBrightness((-50, 50))),  # change brightness of images\n",
    "    iaa.Sometimes(0.5, iaa.AddToHueAndSaturation((-20, 20))),  # change hue and saturation\n",
    "    iaa.Sometimes(0.5, iaa.MultiplyHueAndSaturation((0.5, 1.5))),  # multiply hue and saturation\n",
    "    iaa.Sometimes(0.5, iaa.LinearContrast((0.5, 2.0))),  # linear contrast adjustment\n",
    "    iaa.Sometimes(0.5, iaa.AllChannelsCLAHE()),  # contrast limited adaptive histogram equalization for all channels\n",
    "    iaa.Sometimes(0.5, iaa.AllChannelsHistogramEqualization()),  # histogram equalization for all channels\n",
    "    iaa.Sometimes(0.5, iaa.AddToHue((-50, 50))),  # change hue of images\n",
    "    iaa.Sometimes(0.5, iaa.SigmoidContrast(gain=(3, 10), cutoff=(0.4, 0.6))),  # sigmoid contrast adjustment\n",
    "    iaa.Sometimes(0.5, iaa.FastSnowyLandscape(lightness_threshold=(128, 255))),  # snowy landscape effect\n",
    "    iaa.Sometimes(0.5, iaa.Superpixels(p_replace=(0.1, 1.0), n_segments=(16, 128))),  # superpixels\n",
    "    iaa.Sometimes(0.5, iaa.Cartoon()),  # cartoon effect\n",
    "    iaa.Sometimes(0.5, iaa.Emboss(alpha=(0.0, 1.0), strength=(0.5, 1.5))),  # emboss effect\n",
    "    iaa.Sometimes(0.5, iaa.AverageBlur(k=(2, 7))),  # average blur\n",
    "    iaa.Sometimes(0.5, iaa.MedianBlur(k=(3, 11))),  # median blur\n",
    "    iaa.Sometimes(0.5, iaa.ElasticTransformation(alpha=(0.5, 3.5), sigma=0.25)),  # elastic transformation\n",
    "    iaa.Sometimes(0.5, iaa.PerspectiveTransform(scale=(0.01, 0.1))),  # perspective transformation\n",
    "    iaa.Sometimes(0.5, iaa.PiecewiseAffine(scale=(0.01, 0.05))),  # piecewise affine transformation\n",
    "    iaa.Sometimes(0.5, iaa.CoarseDropout(0.02, size_percent=0.1)),  # coarse dropout\n",
    "#   iaa.Sometimes(0.5, iaa.GridDropout(0.1, threshold=(0.1, 0.3), per_channel=True)),  # grid dropout\n",
    "    iaa.Dropout(0.02),\n",
    "    iaa.Sometimes(0.5, iaa.Cutout(nb_iterations=(1, 3), size=0.2, squared=False)),  # cutout\n",
    "#   iaa.Sometimes(0.5, iaa.RandomBrightnessContrast()),  # random brightness and contrast\n",
    "    iaa.AddToBrightness((-50, 50)), # Adjust brightness by -50 to 50\n",
    "    iaa.LinearContrast((0.5, 2.0)), # Adjust contrast by a factor between 0.5 and 2.0\n",
    "#   iaa.Sometimes(0.5, iaa.Blur(sigma=(0, 3.0))),  # blur\n",
    "    iaa.AverageBlur(k=(2, 7)), # Apply average blur with a kernel size between 2 and 7\n",
    "    iaa.Sometimes(0.5, iaa.Sharpen(alpha=(0, 1.0), lightness=(0.75, 2.0))),  # sharpen\n",
    "])\n"
   ]
  },
  {
   "cell_type": "code",
   "execution_count": null,
   "metadata": {},
   "outputs": [],
   "source": [
    "#problimatic code\n",
    "\n",
    "\n",
    "# Calculate total number of augmented images\n",
    "# total_images = 100\n",
    "# target_images = 2000\n",
    "# augmentation_factor = target_images / total_images\n",
    "\n",
    "# # Augment images to reach target number\n",
    "# for image_name in os.listdir(\"dataset\"):\n",
    "#     image_path = os.path.join(\"dataset\", image_name)\n",
    "#     image = Image.open(image_path)\n",
    "#     image = np.array(image)\n",
    "    \n",
    "#     for i in range(int(augmentation_factor)):\n",
    "#         augmented_images = seq(images=[image])\n",
    "#         for j, augmented_image in enumerate(augmented_images):\n",
    "#             augmented_image = Image.fromarray(augmented_image)\n",
    "#             augmented_image.save(f\"augmented_images/{image_name.split('.')[0]}aug{i*5 + j}.jpg\")"
   ]
  },
  {
   "cell_type": "code",
   "execution_count": 7,
   "metadata": {},
   "outputs": [
    {
     "ename": "UnidentifiedImageError",
     "evalue": "cannot identify image file 'dataset\\\\0.052506\\\\IMG_2448.CR3'",
     "output_type": "error",
     "traceback": [
      "\u001b[1;31m---------------------------------------------------------------------------\u001b[0m",
      "\u001b[1;31mUnidentifiedImageError\u001b[0m                    Traceback (most recent call last)",
      "Cell \u001b[1;32mIn[7], line 10\u001b[0m\n\u001b[0;32m      8\u001b[0m \u001b[38;5;28;01mfor\u001b[39;00m image_name \u001b[38;5;129;01min\u001b[39;00m files:\n\u001b[0;32m      9\u001b[0m     image_path \u001b[38;5;241m=\u001b[39m os\u001b[38;5;241m.\u001b[39mpath\u001b[38;5;241m.\u001b[39mjoin(root, image_name)\n\u001b[1;32m---> 10\u001b[0m     image \u001b[38;5;241m=\u001b[39m \u001b[43mImage\u001b[49m\u001b[38;5;241;43m.\u001b[39;49m\u001b[43mopen\u001b[49m\u001b[43m(\u001b[49m\u001b[43mimage_path\u001b[49m\u001b[43m)\u001b[49m\n\u001b[0;32m     11\u001b[0m     image \u001b[38;5;241m=\u001b[39m np\u001b[38;5;241m.\u001b[39marray(image)\n\u001b[0;32m     13\u001b[0m     \u001b[38;5;28;01mfor\u001b[39;00m i \u001b[38;5;129;01min\u001b[39;00m \u001b[38;5;28mrange\u001b[39m(\u001b[38;5;28mint\u001b[39m(augmentation_factor)):\n",
      "File \u001b[1;32mc:\\Python312\\Lib\\site-packages\\PIL\\Image.py:3309\u001b[0m, in \u001b[0;36mopen\u001b[1;34m(fp, mode, formats)\u001b[0m\n\u001b[0;32m   3307\u001b[0m     warnings\u001b[38;5;241m.\u001b[39mwarn(message)\n\u001b[0;32m   3308\u001b[0m msg \u001b[38;5;241m=\u001b[39m \u001b[38;5;124m\"\u001b[39m\u001b[38;5;124mcannot identify image file \u001b[39m\u001b[38;5;132;01m%r\u001b[39;00m\u001b[38;5;124m\"\u001b[39m \u001b[38;5;241m%\u001b[39m (filename \u001b[38;5;28;01mif\u001b[39;00m filename \u001b[38;5;28;01melse\u001b[39;00m fp)\n\u001b[1;32m-> 3309\u001b[0m \u001b[38;5;28;01mraise\u001b[39;00m UnidentifiedImageError(msg)\n",
      "\u001b[1;31mUnidentifiedImageError\u001b[0m: cannot identify image file 'dataset\\\\0.052506\\\\IMG_2448.CR3'"
     ]
    }
   ],
   "source": [
    "# Calculate total number of augmented images\n",
    "total_images = sum(len(files) for _, _, files in os.walk(\"dataset\"))\n",
    "target_images = 2000\n",
    "augmentation_factor = target_images / total_images\n",
    "\n",
    "# Augment images to reach target number\n",
    "for root, dirs, files in os.walk(\"dataset\"):\n",
    "    for image_name in files:\n",
    "        image_path = os.path.join(root, image_name)\n",
    "        image = Image.open(image_path)\n",
    "        image = np.array(image)\n",
    "        \n",
    "        for i in range(int(augmentation_factor)):\n",
    "            augmented_images = seq(images=[image])\n",
    "            for j, augmented_image in enumerate(augmented_images):\n",
    "                augmented_image = Image.fromarray(augmented_image)\n",
    "                augmented_image.save(f\"augmented_images/{os.path.basename(root)}_{image_name.split('.')[0]}_aug_{i*len(augmented_images) + j}.jpg\")"
   ]
  },
  {
   "cell_type": "code",
   "execution_count": null,
   "metadata": {},
   "outputs": [],
   "source": [
    "dsadasdasdasd"
   ]
  },
  {
   "cell_type": "code",
   "execution_count": null,
   "metadata": {},
   "outputs": [],
   "source": []
  },
  {
   "cell_type": "code",
   "execution_count": null,
   "metadata": {},
   "outputs": [],
   "source": []
  }
 ],
 "metadata": {
  "kernelspec": {
   "display_name": "Python 3",
   "language": "python",
   "name": "python3"
  },
  "language_info": {
   "codemirror_mode": {
    "name": "ipython",
    "version": 3
   },
   "file_extension": ".py",
   "mimetype": "text/x-python",
   "name": "python",
   "nbconvert_exporter": "python",
   "pygments_lexer": "ipython3",
   "version": "3.12.2"
  }
 },
 "nbformat": 4,
 "nbformat_minor": 2
}
